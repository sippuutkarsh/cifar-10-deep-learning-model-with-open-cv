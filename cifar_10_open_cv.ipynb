{
 "cells": [
  {
   "cell_type": "code",
   "execution_count": 40,
   "id": "897bf608",
   "metadata": {},
   "outputs": [],
   "source": [
    "#importing important files\n",
    "import numpy as np\n",
    "import cv2\n",
    "from random import choice\n",
    "from keras.models import load_model"
   ]
  },
  {
   "cell_type": "markdown",
   "id": "e2680cf3",
   "metadata": {},
   "source": [
    "'airplane',\n",
    " 'automobile',\n",
    " 'bird',\n",
    " 'cat',\n",
    " 'deer',\n",
    " 'dog',\n",
    " 'frog',\n",
    " 'horse',\n",
    " 'ship',\n",
    " 'truck'"
   ]
  },
  {
   "cell_type": "code",
   "execution_count": 41,
   "id": "02f6e6eb",
   "metadata": {},
   "outputs": [],
   "source": [
    "#these are the cifar 10 predictions \n",
    "#so i have made a dictionary which maps the indexes with the class name\n",
    "class_map={\n",
    "    0: 'airplane',\n",
    "    1: 'automobile',\n",
    "    2: 'bird',\n",
    "    3: 'cat',\n",
    "    4: 'deer',\n",
    "    5: 'dog',\n",
    "    6: 'frog',\n",
    "    7: 'horse',\n",
    "    8: 'ship',\n",
    "    9: 'truck'\n",
    "}"
   ]
  },
  {
   "cell_type": "code",
   "execution_count": 42,
   "id": "addd7924",
   "metadata": {},
   "outputs": [],
   "source": [
    "#this isa function which takes the predicted index as the argument and gives out the label;\n",
    "def mapper(val):\n",
    "    return class_map[val]\n"
   ]
  },
  {
   "cell_type": "code",
   "execution_count": 43,
   "id": "cbd812a2",
   "metadata": {},
   "outputs": [],
   "source": [
    "#loading the trained model data ,this you can find in my git\n",
    "model=load_model('cifar-10-detection-model.h5')"
   ]
  },
  {
   "cell_type": "code",
   "execution_count": 44,
   "id": "2f39ba52",
   "metadata": {},
   "outputs": [],
   "source": [
    "cap=cv2.VideoCapture(0)"
   ]
  },
  {
   "cell_type": "code",
   "execution_count": 45,
   "id": "167a73fe",
   "metadata": {},
   "outputs": [],
   "source": [
    "#open cv  program to show up the camera and predictions..\n",
    "while True:\n",
    "    #ret just takes care that if your camera is already being used by someother app , it will pose an error...\n",
    "    ret,frame=cap.read()\n",
    "    #forming the rectangle...\n",
    "    cv2.rectangle(frame,(100,100),(300,300),(255,255,255),3)\n",
    "    #forming the reaction frame..\n",
    "    roi=frame[100:300,100:300]\n",
    "    #changing the bgr format of channels to rgb for predictions ..\n",
    "    img=cv2.cvtColor(roi,cv2.COLOR_BGR2RGB)\n",
    "    img=cv2.resize(img,(32,32))\n",
    "    \n",
    "    #loading my pre-trained model of cifar 10  and predicting the image class..\n",
    "    pred=model.predict(np.array([img]))\n",
    "    max_probab_class_index=np.argmax(pred[0])\n",
    "    class_pred=mapper(max_probab_class_index)\n",
    "    \n",
    "    #choosing font and putting it on screen ..\n",
    "    font=cv2.FONT_HERSHEY_SIMPLEX\n",
    "    cv2.putText(frame,'prediction: '+ class_pred,(50,50),font,1.2,(255,255,255),2,cv2.LINE_AA)\n",
    "    \n",
    "    cv2.imshow('cifar10-detection',frame)\n",
    "    if cv2.waitKey(1)==ord('q'):\n",
    "        break\n",
    "cap.release()\n",
    "cv2.destroyAllWindows()\n",
    "    "
   ]
  }
 ],
 "metadata": {
  "kernelspec": {
   "display_name": "Python 3",
   "language": "python",
   "name": "python3"
  },
  "language_info": {
   "codemirror_mode": {
    "name": "ipython",
    "version": 3
   },
   "file_extension": ".py",
   "mimetype": "text/x-python",
   "name": "python",
   "nbconvert_exporter": "python",
   "pygments_lexer": "ipython3",
   "version": "3.8.8"
  }
 },
 "nbformat": 4,
 "nbformat_minor": 5
}
